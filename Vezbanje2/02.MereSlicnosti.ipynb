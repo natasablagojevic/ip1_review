{
 "cells": [
  {
   "cell_type": "code",
   "execution_count": 2,
   "id": "f7409bcc",
   "metadata": {},
   "outputs": [],
   "source": [
    "import pandas as pd\n",
    "import numpy as np\n",
    "import matplotlib.pyplot as plt"
   ]
  },
  {
   "cell_type": "code",
   "execution_count": 3,
   "id": "fd2d7392",
   "metadata": {},
   "outputs": [],
   "source": [
    "def similarity_nominal(p, q):\n",
    "    return int(p == q)"
   ]
  },
  {
   "cell_type": "code",
   "execution_count": 4,
   "id": "0977375e",
   "metadata": {},
   "outputs": [
    {
     "data": {
      "text/plain": [
       "0"
      ]
     },
     "execution_count": 4,
     "metadata": {},
     "output_type": "execute_result"
    }
   ],
   "source": [
    "similarity_nominal('Petar', 'Jovan')"
   ]
  },
  {
   "cell_type": "code",
   "execution_count": 5,
   "id": "ade1cdd2",
   "metadata": {},
   "outputs": [
    {
     "data": {
      "text/plain": [
       "1"
      ]
     },
     "execution_count": 5,
     "metadata": {},
     "output_type": "execute_result"
    }
   ],
   "source": [
    "similarity_nominal('petar', 'petar')"
   ]
  },
  {
   "cell_type": "code",
   "execution_count": 6,
   "id": "bb9b5f92",
   "metadata": {},
   "outputs": [],
   "source": [
    "def dissimilarity_nominal(p, q):\n",
    "    return 1 - similarity_nominal(p, q)"
   ]
  },
  {
   "cell_type": "code",
   "execution_count": 7,
   "id": "17d76ad8",
   "metadata": {},
   "outputs": [
    {
     "data": {
      "text/plain": [
       "1"
      ]
     },
     "execution_count": 7,
     "metadata": {},
     "output_type": "execute_result"
    }
   ],
   "source": [
    "dissimilarity_nominal('Petar', 'Jovan')"
   ]
  },
  {
   "cell_type": "code",
   "execution_count": 8,
   "id": "b308667a",
   "metadata": {},
   "outputs": [
    {
     "data": {
      "text/plain": [
       "0"
      ]
     },
     "execution_count": 8,
     "metadata": {},
     "output_type": "execute_result"
    }
   ],
   "source": [
    "dissimilarity_nominal('Petar', 'Petar')"
   ]
  },
  {
   "cell_type": "code",
   "execution_count": 9,
   "id": "7c47fc80",
   "metadata": {},
   "outputs": [],
   "source": [
    "def dissimilarity_ordinal(p, q, values):\n",
    "    n = len(values)\n",
    "    map_values = pd.Series(range(n), index=values)\n",
    "    \n",
    "    return abs(map_values[p] - map_values[q])/(n-1)"
   ]
  },
  {
   "cell_type": "code",
   "execution_count": 10,
   "id": "d8f86a22",
   "metadata": {},
   "outputs": [
    {
     "data": {
      "text/plain": [
       "0.6666666666666666"
      ]
     },
     "execution_count": 10,
     "metadata": {},
     "output_type": "execute_result"
    }
   ],
   "source": [
    "dissimilarity_ordinal('M', 'XL', ['S', 'M', 'L', 'XL'])"
   ]
  },
  {
   "cell_type": "code",
   "execution_count": 11,
   "id": "07ecce95",
   "metadata": {},
   "outputs": [
    {
     "data": {
      "text/plain": [
       "1.0"
      ]
     },
     "execution_count": 11,
     "metadata": {},
     "output_type": "execute_result"
    }
   ],
   "source": [
    "dissimilarity_ordinal('S', 'XL', ['S', 'M', 'L', 'XL'])"
   ]
  },
  {
   "cell_type": "code",
   "execution_count": 12,
   "id": "4e3ef9dc",
   "metadata": {},
   "outputs": [],
   "source": [
    "def similarity_ordinal(p, q, values):\n",
    "    return 1 - dissimilarity_ordinal(p, q, values)"
   ]
  },
  {
   "cell_type": "code",
   "execution_count": 13,
   "id": "daa8a2f8",
   "metadata": {},
   "outputs": [
    {
     "data": {
      "text/plain": [
       "0.33333333333333337"
      ]
     },
     "execution_count": 13,
     "metadata": {},
     "output_type": "execute_result"
    }
   ],
   "source": [
    "similarity_ordinal('M', 'XL', ['S', 'M', 'L', 'XL'])"
   ]
  },
  {
   "cell_type": "code",
   "execution_count": 14,
   "id": "44275c29",
   "metadata": {},
   "outputs": [
    {
     "data": {
      "text/plain": [
       "0.0"
      ]
     },
     "execution_count": 14,
     "metadata": {},
     "output_type": "execute_result"
    }
   ],
   "source": [
    "similarity_ordinal('S', 'XL', ['S', 'M', 'L', 'XL'])"
   ]
  },
  {
   "cell_type": "code",
   "execution_count": 15,
   "id": "5e18d080",
   "metadata": {},
   "outputs": [],
   "source": [
    "def dissimilarity_quantity(p, q):\n",
    "    return abs(p - q)"
   ]
  },
  {
   "cell_type": "code",
   "execution_count": 16,
   "id": "78e407bd",
   "metadata": {},
   "outputs": [],
   "source": [
    "import datetime"
   ]
  },
  {
   "cell_type": "code",
   "execution_count": 17,
   "id": "dfd8d3c3",
   "metadata": {},
   "outputs": [
    {
     "data": {
      "text/plain": [
       "datetime.timedelta(days=121)"
      ]
     },
     "execution_count": 17,
     "metadata": {},
     "output_type": "execute_result"
    }
   ],
   "source": [
    "dissimilarity_quantity(datetime.date(2020, 3, 25), datetime.date(2020, 7, 24))"
   ]
  },
  {
   "cell_type": "code",
   "execution_count": 18,
   "id": "b95a2ee2",
   "metadata": {},
   "outputs": [],
   "source": [
    "def similarity_quantity_1(p, q):\n",
    "    return -dissimilarity_quantity(p, q)"
   ]
  },
  {
   "cell_type": "code",
   "execution_count": 19,
   "id": "3ef50b08",
   "metadata": {},
   "outputs": [
    {
     "data": {
      "text/plain": [
       "datetime.timedelta(days=-121)"
      ]
     },
     "execution_count": 19,
     "metadata": {},
     "output_type": "execute_result"
    }
   ],
   "source": [
    "similarity_quantity_1(datetime.date(2020, 3, 25), datetime.date(2020, 7, 24))"
   ]
  },
  {
   "cell_type": "code",
   "execution_count": 20,
   "id": "849525ed",
   "metadata": {},
   "outputs": [],
   "source": [
    "def similarity_quantity_2(p, q):\n",
    "    return 1/(1 + dissimilarity_quantity(p, q).days)"
   ]
  },
  {
   "cell_type": "code",
   "execution_count": 21,
   "id": "b4e6f241",
   "metadata": {},
   "outputs": [],
   "source": [
    "def minkowski(x, y, r):\n",
    "    if r <= 0:\n",
    "        raise ValueError(\"R is not positive\")\n",
    "        \n",
    "    return (sum([abs(x[v] - y[v])**r for v in x.index]))**(1/r)"
   ]
  },
  {
   "cell_type": "code",
   "execution_count": 22,
   "id": "06419662",
   "metadata": {},
   "outputs": [],
   "source": [
    "points = pd.DataFrame([[0,2], [2,0], [3,1], [5,1]], index=['p1', 'p2', 'p3', 'p4'], columns=['x', 'y'])"
   ]
  },
  {
   "cell_type": "code",
   "execution_count": 23,
   "id": "a498134a",
   "metadata": {},
   "outputs": [
    {
     "data": {
      "text/html": [
       "<div>\n",
       "<style scoped>\n",
       "    .dataframe tbody tr th:only-of-type {\n",
       "        vertical-align: middle;\n",
       "    }\n",
       "\n",
       "    .dataframe tbody tr th {\n",
       "        vertical-align: top;\n",
       "    }\n",
       "\n",
       "    .dataframe thead th {\n",
       "        text-align: right;\n",
       "    }\n",
       "</style>\n",
       "<table border=\"1\" class=\"dataframe\">\n",
       "  <thead>\n",
       "    <tr style=\"text-align: right;\">\n",
       "      <th></th>\n",
       "      <th>x</th>\n",
       "      <th>y</th>\n",
       "    </tr>\n",
       "  </thead>\n",
       "  <tbody>\n",
       "    <tr>\n",
       "      <th>p1</th>\n",
       "      <td>0</td>\n",
       "      <td>2</td>\n",
       "    </tr>\n",
       "    <tr>\n",
       "      <th>p2</th>\n",
       "      <td>2</td>\n",
       "      <td>0</td>\n",
       "    </tr>\n",
       "    <tr>\n",
       "      <th>p3</th>\n",
       "      <td>3</td>\n",
       "      <td>1</td>\n",
       "    </tr>\n",
       "    <tr>\n",
       "      <th>p4</th>\n",
       "      <td>5</td>\n",
       "      <td>1</td>\n",
       "    </tr>\n",
       "  </tbody>\n",
       "</table>\n",
       "</div>"
      ],
      "text/plain": [
       "    x  y\n",
       "p1  0  2\n",
       "p2  2  0\n",
       "p3  3  1\n",
       "p4  5  1"
      ]
     },
     "execution_count": 23,
     "metadata": {},
     "output_type": "execute_result"
    }
   ],
   "source": [
    "points"
   ]
  },
  {
   "cell_type": "code",
   "execution_count": 24,
   "id": "c60cba18",
   "metadata": {},
   "outputs": [
    {
     "data": {
      "text/plain": [
       "Text(0.5, 1.0, 'Points')"
      ]
     },
     "execution_count": 24,
     "metadata": {},
     "output_type": "execute_result"
    },
    {
     "data": {
      "image/png": "[encoded data removed]",
      "text/plain": [
       "<Figure size 640x480 with 1 Axes>"
      ]
     },
     "metadata": {},
     "output_type": "display_data"
    }
   ],
   "source": [
    "points.plot.scatter('x', 'y')\n",
    "plt.title('Points')"
   ]
  },
  {
   "cell_type": "code",
   "execution_count": 25,
   "id": "78bc3fa9",
   "metadata": {},
   "outputs": [],
   "source": [
    "def L1(points):\n",
    "    L1 = pd.DataFrame(0, index=points.index, columns=points.index)\n",
    "    \n",
    "    for p1 in points.index:\n",
    "        for p2 in points.index:\n",
    "            L1[p1][p2] = minkowski(points.loc[p1], points.loc[p2], 1)\n",
    "            \n",
    "    return L1"
   ]
  },
  {
   "cell_type": "code",
   "execution_count": 26,
   "id": "8477c6c2",
   "metadata": {},
   "outputs": [
    {
     "data": {
      "text/html": [
       "<div>\n",
       "<style scoped>\n",
       "    .dataframe tbody tr th:only-of-type {\n",
       "        vertical-align: middle;\n",
       "    }\n",
       "\n",
       "    .dataframe tbody tr th {\n",
       "        vertical-align: top;\n",
       "    }\n",
       "\n",
       "    .dataframe thead th {\n",
       "        text-align: right;\n",
       "    }\n",
       "</style>\n",
       "<table border=\"1\" class=\"dataframe\">\n",
       "  <thead>\n",
       "    <tr style=\"text-align: right;\">\n",
       "      <th></th>\n",
       "      <th>p1</th>\n",
       "      <th>p2</th>\n",
       "      <th>p3</th>\n",
       "      <th>p4</th>\n",
       "    </tr>\n",
       "  </thead>\n",
       "  <tbody>\n",
       "    <tr>\n",
       "      <th>p1</th>\n",
       "      <td>0</td>\n",
       "      <td>4</td>\n",
       "      <td>4</td>\n",
       "      <td>6</td>\n",
       "    </tr>\n",
       "    <tr>\n",
       "      <th>p2</th>\n",
       "      <td>4</td>\n",
       "      <td>0</td>\n",
       "      <td>2</td>\n",
       "      <td>4</td>\n",
       "    </tr>\n",
       "    <tr>\n",
       "      <th>p3</th>\n",
       "      <td>4</td>\n",
       "      <td>2</td>\n",
       "      <td>0</td>\n",
       "      <td>2</td>\n",
       "    </tr>\n",
       "    <tr>\n",
       "      <th>p4</th>\n",
       "      <td>6</td>\n",
       "      <td>4</td>\n",
       "      <td>2</td>\n",
       "      <td>0</td>\n",
       "    </tr>\n",
       "  </tbody>\n",
       "</table>\n",
       "</div>"
      ],
      "text/plain": [
       "    p1  p2  p3  p4\n",
       "p1   0   4   4   6\n",
       "p2   4   0   2   4\n",
       "p3   4   2   0   2\n",
       "p4   6   4   2   0"
      ]
     },
     "execution_count": 26,
     "metadata": {},
     "output_type": "execute_result"
    }
   ],
   "source": [
    "L1(points)"
   ]
  },
  {
   "cell_type": "code",
   "execution_count": 27,
   "id": "369708f3",
   "metadata": {},
   "outputs": [],
   "source": [
    "def L2(points):\n",
    "    l2 = pd.DataFrame(0, index=points.index, columns=points.index)\n",
    "    \n",
    "    for p1 in points.index:\n",
    "        for p2 in points.index:\n",
    "            l2[p1][p2] = minkowski(points.loc[p1], points.loc[p2], 2)\n",
    "            \n",
    "    return l2"
   ]
  },
  {
   "cell_type": "code",
   "execution_count": 28,
   "id": "d3b6af2d",
   "metadata": {},
   "outputs": [
    {
     "name": "stderr",
     "output_type": "stream",
     "text": [
      "/tmp/ipykernel_9750/4131243763.py:6: SettingWithCopyWarning: \n",
      "A value is trying to be set on a copy of a slice from a DataFrame\n",
      "\n",
      "See the caveats in the documentation: https://pandas.pydata.org/pandas-docs/stable/user_guide/indexing.html#returning-a-view-versus-a-copy\n",
      "  l2[p1][p2] = minkowski(points.loc[p1], points.loc[p2], 2)\n"
     ]
    },
    {
     "data": {
      "text/html": [
       "<div>\n",
       "<style scoped>\n",
       "    .dataframe tbody tr th:only-of-type {\n",
       "        vertical-align: middle;\n",
       "    }\n",
       "\n",
       "    .dataframe tbody tr th {\n",
       "        vertical-align: top;\n",
       "    }\n",
       "\n",
       "    .dataframe thead th {\n",
       "        text-align: right;\n",
       "    }\n",
       "</style>\n",
       "<table border=\"1\" class=\"dataframe\">\n",
       "  <thead>\n",
       "    <tr style=\"text-align: right;\">\n",
       "      <th></th>\n",
       "      <th>p1</th>\n",
       "      <th>p2</th>\n",
       "      <th>p3</th>\n",
       "      <th>p4</th>\n",
       "    </tr>\n",
       "  </thead>\n",
       "  <tbody>\n",
       "    <tr>\n",
       "      <th>p1</th>\n",
       "      <td>0.000000</td>\n",
       "      <td>2.828427</td>\n",
       "      <td>3.162278</td>\n",
       "      <td>5.099020</td>\n",
       "    </tr>\n",
       "    <tr>\n",
       "      <th>p2</th>\n",
       "      <td>2.828427</td>\n",
       "      <td>0.000000</td>\n",
       "      <td>1.414214</td>\n",
       "      <td>3.162278</td>\n",
       "    </tr>\n",
       "    <tr>\n",
       "      <th>p3</th>\n",
       "      <td>3.162278</td>\n",
       "      <td>1.414214</td>\n",
       "      <td>0.000000</td>\n",
       "      <td>2.000000</td>\n",
       "    </tr>\n",
       "    <tr>\n",
       "      <th>p4</th>\n",
       "      <td>5.099020</td>\n",
       "      <td>3.162278</td>\n",
       "      <td>2.000000</td>\n",
       "      <td>0.000000</td>\n",
       "    </tr>\n",
       "  </tbody>\n",
       "</table>\n",
       "</div>"
      ],
      "text/plain": [
       "          p1        p2        p3        p4\n",
       "p1  0.000000  2.828427  3.162278  5.099020\n",
       "p2  2.828427  0.000000  1.414214  3.162278\n",
       "p3  3.162278  1.414214  0.000000  2.000000\n",
       "p4  5.099020  3.162278  2.000000  0.000000"
      ]
     },
     "execution_count": 28,
     "metadata": {},
     "output_type": "execute_result"
    }
   ],
   "source": [
    "L2(points)"
   ]
  },
  {
   "cell_type": "code",
   "execution_count": 29,
   "id": "422f3624",
   "metadata": {},
   "outputs": [],
   "source": [
    "def Lmax(points):\n",
    "    lmax = pd.DataFrame(0, index=points.index, columns=points.index, dtype='float64')\n",
    "    \n",
    "    for p1 in points.index:\n",
    "        for p2 in points.index:\n",
    "            lmax[p1][p2] = max(abs(points.loc[p1] - points.loc[p2]))\n",
    "            \n",
    "    return lmax"
   ]
  },
  {
   "cell_type": "code",
   "execution_count": 30,
   "id": "8d204ccb",
   "metadata": {},
   "outputs": [
    {
     "data": {
      "text/html": [
       "<div>\n",
       "<style scoped>\n",
       "    .dataframe tbody tr th:only-of-type {\n",
       "        vertical-align: middle;\n",
       "    }\n",
       "\n",
       "    .dataframe tbody tr th {\n",
       "        vertical-align: top;\n",
       "    }\n",
       "\n",
       "    .dataframe thead th {\n",
       "        text-align: right;\n",
       "    }\n",
       "</style>\n",
       "<table border=\"1\" class=\"dataframe\">\n",
       "  <thead>\n",
       "    <tr style=\"text-align: right;\">\n",
       "      <th></th>\n",
       "      <th>p1</th>\n",
       "      <th>p2</th>\n",
       "      <th>p3</th>\n",
       "      <th>p4</th>\n",
       "    </tr>\n",
       "  </thead>\n",
       "  <tbody>\n",
       "    <tr>\n",
       "      <th>p1</th>\n",
       "      <td>0.0</td>\n",
       "      <td>2.0</td>\n",
       "      <td>3.0</td>\n",
       "      <td>5.0</td>\n",
       "    </tr>\n",
       "    <tr>\n",
       "      <th>p2</th>\n",
       "      <td>2.0</td>\n",
       "      <td>0.0</td>\n",
       "      <td>1.0</td>\n",
       "      <td>3.0</td>\n",
       "    </tr>\n",
       "    <tr>\n",
       "      <th>p3</th>\n",
       "      <td>3.0</td>\n",
       "      <td>1.0</td>\n",
       "      <td>0.0</td>\n",
       "      <td>2.0</td>\n",
       "    </tr>\n",
       "    <tr>\n",
       "      <th>p4</th>\n",
       "      <td>5.0</td>\n",
       "      <td>3.0</td>\n",
       "      <td>2.0</td>\n",
       "      <td>0.0</td>\n",
       "    </tr>\n",
       "  </tbody>\n",
       "</table>\n",
       "</div>"
      ],
      "text/plain": [
       "     p1   p2   p3   p4\n",
       "p1  0.0  2.0  3.0  5.0\n",
       "p2  2.0  0.0  1.0  3.0\n",
       "p3  3.0  1.0  0.0  2.0\n",
       "p4  5.0  3.0  2.0  0.0"
      ]
     },
     "execution_count": 30,
     "metadata": {},
     "output_type": "execute_result"
    }
   ],
   "source": [
    "Lmax(points)"
   ]
  },
  {
   "cell_type": "code",
   "execution_count": 31,
   "id": "952eadaf",
   "metadata": {},
   "outputs": [],
   "source": [
    "def hammings_distance(p, q):\n",
    "    return (p == q).sum()"
   ]
  },
  {
   "cell_type": "code",
   "execution_count": 32,
   "id": "f4030124",
   "metadata": {},
   "outputs": [],
   "source": [
    "p = pd.Series([0, 1, 0, 1, 0, 1, 0, 0, 0, 1])\n",
    "q = pd.Series([0, 1, 0, 0, 0, 1, 1, 0, 0, 0])"
   ]
  },
  {
   "cell_type": "code",
   "execution_count": 33,
   "id": "c33bad3b",
   "metadata": {},
   "outputs": [
    {
     "data": {
      "text/plain": [
       "7"
      ]
     },
     "execution_count": 33,
     "metadata": {},
     "output_type": "execute_result"
    }
   ],
   "source": [
    "hammings_distance(p, q)"
   ]
  },
  {
   "cell_type": "code",
   "execution_count": 34,
   "id": "8bfad0dc",
   "metadata": {},
   "outputs": [],
   "source": [
    "def smc(p, q):\n",
    "    return (p == q).sum()/p.count()"
   ]
  },
  {
   "cell_type": "code",
   "execution_count": 35,
   "id": "626448c8",
   "metadata": {},
   "outputs": [],
   "source": [
    "p = pd.Series([0, 1, 1, 0, 1, 0])\n",
    "q = pd.Series([1, 0, 1, 0, 1, 0])"
   ]
  },
  {
   "cell_type": "code",
   "execution_count": 36,
   "id": "0e9a1342",
   "metadata": {},
   "outputs": [
    {
     "data": {
      "text/plain": [
       "0.6666666666666666"
      ]
     },
     "execution_count": 36,
     "metadata": {},
     "output_type": "execute_result"
    }
   ],
   "source": [
    "smc(p, q)"
   ]
  },
  {
   "cell_type": "code",
   "execution_count": 37,
   "id": "74602fb4",
   "metadata": {},
   "outputs": [],
   "source": [
    "def jacard(p, q):\n",
    "    return (p+q == 2).sum()/(p+q != 0).sum()"
   ]
  },
  {
   "cell_type": "code",
   "execution_count": 38,
   "id": "cf0f040c",
   "metadata": {},
   "outputs": [],
   "source": [
    "p = pd.Series([0, 1, 0, 1, 0, 1, 0, 0, 0, 1])\n",
    "q = pd.Series([0, 1, 0, 0, 0, 1, 1, 0, 0, 0])"
   ]
  },
  {
   "cell_type": "code",
   "execution_count": 39,
   "id": "6297007b",
   "metadata": {},
   "outputs": [
    {
     "data": {
      "text/plain": [
       "0.4"
      ]
     },
     "execution_count": 39,
     "metadata": {},
     "output_type": "execute_result"
    }
   ],
   "source": [
    "jacard(p, q)"
   ]
  },
  {
   "cell_type": "code",
   "execution_count": 40,
   "id": "b62875dc",
   "metadata": {},
   "outputs": [],
   "source": [
    "def norm(x):\n",
    "    return np.sqrt((x*x).sum())"
   ]
  },
  {
   "cell_type": "code",
   "execution_count": 41,
   "id": "da5afe92",
   "metadata": {},
   "outputs": [],
   "source": [
    "def cosine_similarity(p, q):\n",
    "    return (p*q).sum()/(norm(p) * norm(q))"
   ]
  },
  {
   "cell_type": "code",
   "execution_count": 42,
   "id": "2b6d13a8",
   "metadata": {},
   "outputs": [
    {
     "data": {
      "text/plain": [
       "0.5773502691896258"
      ]
     },
     "execution_count": 42,
     "metadata": {},
     "output_type": "execute_result"
    }
   ],
   "source": [
    "cosine_similarity(p, q)"
   ]
  },
  {
   "cell_type": "code",
   "execution_count": 43,
   "id": "8f18dddb",
   "metadata": {},
   "outputs": [],
   "source": [
    "def correlation(p, q):\n",
    "    return (np.cov(p, q)/(p.std() * q.std()))[0][1]"
   ]
  },
  {
   "cell_type": "code",
   "execution_count": null,
   "id": "9be2e707",
   "metadata": {},
   "outputs": [],
   "source": []
  },
  {
   "cell_type": "code",
   "execution_count": null,
   "id": "aa1506eb",
   "metadata": {},
   "outputs": [],
   "source": []
  }
 ],
 "metadata": {
  "kernelspec": {
   "display_name": "Python 3 (ipykernel)",
   "language": "python",
   "name": "python3"
  },
  "language_info": {
   "codemirror_mode": {
    "name": "ipython",
    "version": 3
   },
   "file_extension": ".py",
   "mimetype": "text/x-python",
   "name": "python",
   "nbconvert_exporter": "python",
   "pygments_lexer": "ipython3",
   "version": "3.9.13"
  }
 },
 "nbformat": 4,
 "nbformat_minor": 5
}
